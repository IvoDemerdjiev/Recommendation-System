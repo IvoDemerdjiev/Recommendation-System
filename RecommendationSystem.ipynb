{
 "cells": [
  {
   "cell_type": "code",
   "execution_count": 2,
   "metadata": {},
   "outputs": [],
   "source": [
    "#spark imports\n",
    "import findspark\n",
    "findspark.init()\n",
    "from pyspark.sql import *\n",
    "from pyspark.sql.functions import *\n",
    "from pyspark.sql.types import *\n",
    "from pyspark.sql.window import Window\n",
    "from pyspark.ml.evaluation import RegressionEvaluator\n",
    "from pyspark.ml.recommendation import ALS\n",
    "\n",
    "from pyspark.ml.feature import StringIndexer\n",
    "from pyspark.ml import Pipeline\n",
    "from pyspark.sql.functions import col\n",
    "from pyspark.ml.feature import IndexToString\n"
   ]
  },
  {
   "cell_type": "code",
   "execution_count": 3,
   "metadata": {},
   "outputs": [],
   "source": [
    "spark = SparkSession.builder.appName(\"recommendation_system\").config(\"spark.executor.memory\", \"20g\").getOrCreate()"
   ]
  },
  {
   "cell_type": "code",
   "execution_count": 4,
   "metadata": {},
   "outputs": [],
   "source": [
    "# products data up to 2014\n",
    "product_data = spark.read.json('./metadata.json.gz')\n",
    "\n",
    "# ratings of the products\n",
    "rating_data = spark.read.csv('./amazon_product_rating.csv')\n",
    "\n",
    "# only books ratings\n",
    "books_rating_data = spark.read.csv('./ratings_Books.csv')"
   ]
  },
  {
   "cell_type": "code",
   "execution_count": 5,
   "metadata": {},
   "outputs": [
    {
     "name": "stdout",
     "output_type": "stream",
     "text": [
      "root\n",
      " |-- _corrupt_record: string (nullable = true)\n",
      " |-- asin: string (nullable = true)\n",
      " |-- brand: string (nullable = true)\n",
      " |-- categories: array (nullable = true)\n",
      " |    |-- element: array (containsNull = true)\n",
      " |    |    |-- element: string (containsNull = true)\n",
      " |-- description: string (nullable = true)\n",
      " |-- imUrl: string (nullable = true)\n",
      " |-- price: double (nullable = true)\n",
      " |-- related: struct (nullable = true)\n",
      " |    |-- also_bought: array (nullable = true)\n",
      " |    |    |-- element: string (containsNull = true)\n",
      " |    |-- also_viewed: array (nullable = true)\n",
      " |    |    |-- element: string (containsNull = true)\n",
      " |    |-- bought_together: array (nullable = true)\n",
      " |    |    |-- element: string (containsNull = true)\n",
      " |    |-- buy_after_viewing: array (nullable = true)\n",
      " |    |    |-- element: string (containsNull = true)\n",
      " |-- salesRank: struct (nullable = true)\n",
      " |    |-- Appliances: long (nullable = true)\n",
      " |    |-- Arts, Crafts & Sewing: long (nullable = true)\n",
      " |    |-- Automotive: long (nullable = true)\n",
      " |    |-- Baby: long (nullable = true)\n",
      " |    |-- Beauty: long (nullable = true)\n",
      " |    |-- Books: long (nullable = true)\n",
      " |    |-- Camera &amp; Photo: long (nullable = true)\n",
      " |    |-- Cell Phones & Accessories: long (nullable = true)\n",
      " |    |-- Clothing: long (nullable = true)\n",
      " |    |-- Computers & Accessories: long (nullable = true)\n",
      " |    |-- Electronics: long (nullable = true)\n",
      " |    |-- Gift Cards Store: long (nullable = true)\n",
      " |    |-- Grocery & Gourmet Food: long (nullable = true)\n",
      " |    |-- Health & Personal Care: long (nullable = true)\n",
      " |    |-- Home &amp; Kitchen: long (nullable = true)\n",
      " |    |-- Home Improvement: long (nullable = true)\n",
      " |    |-- Industrial & Scientific: long (nullable = true)\n",
      " |    |-- Jewelry: long (nullable = true)\n",
      " |    |-- Kitchen & Dining: long (nullable = true)\n",
      " |    |-- Magazines: long (nullable = true)\n",
      " |    |-- Movies & TV: long (nullable = true)\n",
      " |    |-- Music: long (nullable = true)\n",
      " |    |-- Musical Instruments: long (nullable = true)\n",
      " |    |-- Office Products: long (nullable = true)\n",
      " |    |-- Patio, Lawn & Garden: long (nullable = true)\n",
      " |    |-- Pet Supplies: long (nullable = true)\n",
      " |    |-- Prime Pantry: long (nullable = true)\n",
      " |    |-- Shoes: long (nullable = true)\n",
      " |    |-- Software: long (nullable = true)\n",
      " |    |-- Sports &amp; Outdoors: long (nullable = true)\n",
      " |    |-- Toys & Games: long (nullable = true)\n",
      " |    |-- Video Games: long (nullable = true)\n",
      " |    |-- Watches: long (nullable = true)\n",
      " |-- title: string (nullable = true)\n",
      "\n"
     ]
    }
   ],
   "source": [
    "product_data.printSchema()"
   ]
  },
  {
   "cell_type": "code",
   "execution_count": 6,
   "metadata": {},
   "outputs": [
    {
     "name": "stdout",
     "output_type": "stream",
     "text": [
      "root\n",
      " |-- _c0: string (nullable = true)\n",
      " |-- _c1: string (nullable = true)\n",
      " |-- _c2: string (nullable = true)\n",
      " |-- _c3: string (nullable = true)\n",
      "\n"
     ]
    }
   ],
   "source": [
    "rating_data.printSchema()"
   ]
  },
  {
   "cell_type": "code",
   "execution_count": 7,
   "metadata": {},
   "outputs": [
    {
     "name": "stdout",
     "output_type": "stream",
     "text": [
      "root\n",
      " |-- _c0: string (nullable = true)\n",
      " |-- _c1: string (nullable = true)\n",
      " |-- _c2: string (nullable = true)\n",
      " |-- _c3: string (nullable = true)\n",
      "\n"
     ]
    }
   ],
   "source": [
    "books_rating_data.printSchema()"
   ]
  },
  {
   "cell_type": "code",
   "execution_count": 8,
   "metadata": {},
   "outputs": [
    {
     "name": "stdout",
     "output_type": "stream",
     "text": [
      "+---------------+----------+----------+--------------------+--------------------+--------------------+-----+--------------------+--------------------+--------------------+\n",
      "|_corrupt_record|      asin|     brand|          categories|         description|               imUrl|price|             related|           salesRank|               title|\n",
      "+---------------+----------+----------+--------------------+--------------------+--------------------+-----+--------------------+--------------------+--------------------+\n",
      "|           null|0001048791|      null|           [[Books]]|                null|http://ecx.images...| null|                null|{null, null, null...|The Crucible: Per...|\n",
      "|           null|0000143561|      null|[[Movies & TV, Mo...|3Pack DVD set - I...|http://g-ecx.imag...|12.99|{null, [B0036FO6S...|{null, null, null...|Everyday Italian ...|\n",
      "|           null|0000037214|Big Dreams|[[Clothing, Shoes...|                null|http://ecx.images...| 6.99|{null, [B00JO8II7...|{null, null, null...|Purple Sequin Tin...|\n",
      "|           null|0000032069|  BubuBibi|[[Sports & Outdoo...|                null|http://ecx.images...| 7.89|{[0000032050, B00...|                null|Adult Ballet Tutu...|\n",
      "|           null|0000031909|   Unknown|[[Sports & Outdoo...|High quality 3 la...|http://ecx.images...|  7.0|{[B002BZX8Z6, B00...|{null, null, null...|Girls Ballet Tutu...|\n",
      "|           null|0000032034|  BubuBibi|[[Sports & Outdoo...|                null|http://ecx.images...| 7.87|{[B00D2JSRFQ, 000...|                null|Adult Ballet Tutu...|\n",
      "|           null|0000589012|      null|[[Movies & TV, Mo...|                null|http://ecx.images...|15.95|{[B000Z3N1HQ, 057...|{null, null, null...|Why Don't They Ju...|\n",
      "|           null|0001048775|      null|           [[Books]]|William Shakespea...|http://ecx.images...| null|                null|{null, null, null...|Measure for Measu...|\n",
      "|           null|0000031852|  Coxlures|[[Sports & Outdoo...|                TUtu|http://ecx.images...| 3.17|{[B00JHONN1S, B00...|{null, null, null...|Girls Ballet Tutu...|\n",
      "|           null|0001048236|      null|           [[Books]]|&#34;One thing is...|http://ecx.images...| 9.26|{null, [144230019...|{null, null, null...|The Sherlock Holm...|\n",
      "+---------------+----------+----------+--------------------+--------------------+--------------------+-----+--------------------+--------------------+--------------------+\n",
      "only showing top 10 rows\n",
      "\n"
     ]
    }
   ],
   "source": [
    "product_data.show(10)"
   ]
  },
  {
   "cell_type": "code",
   "execution_count": 9,
   "metadata": {},
   "outputs": [
    {
     "name": "stdout",
     "output_type": "stream",
     "text": [
      "+--------------+----------+---+----------+\n",
      "|           _c0|       _c1|_c2|       _c3|\n",
      "+--------------+----------+---+----------+\n",
      "| AH2L9G3DQHHAJ|0000000116|4.0|1019865600|\n",
      "|A2IIIDRK3PRRZY|0000000116|1.0|1395619200|\n",
      "|A1TADCM7YWPQ8M|0000000868|4.0|1031702400|\n",
      "| AWGH7V0BDOJKB|0000013714|4.0|1383177600|\n",
      "|A3UTQPQPM4TQO0|0000013714|5.0|1374883200|\n",
      "| A8ZS0I5L5V31B|0000013714|5.0|1393632000|\n",
      "| ACNGUPJ3A3TM9|0000013714|4.0|1386028800|\n",
      "|A3BED5QFJWK88M|0000013714|4.0|1350345600|\n",
      "|A2SUAM1J3GNN3B|0000013714|5.0|1252800000|\n",
      "| APOZ15IEYQRRR|0000013714|5.0|1362787200|\n",
      "+--------------+----------+---+----------+\n",
      "only showing top 10 rows\n",
      "\n"
     ]
    }
   ],
   "source": [
    "books_rating_data.show(10)"
   ]
  },
  {
   "cell_type": "code",
   "execution_count": 10,
   "metadata": {},
   "outputs": [],
   "source": [
    "def getRatingData(df):\n",
    "    data_schema = StructType([\n",
    "    StructField(\"product_id\", StringType(), True),\n",
    "    StructField(\"client_id\", StringType(), True),\n",
    "    StructField(\"rating\", FloatType(), True),\n",
    "    StructField(\"timestamp\", LongType(), True)])\n",
    "\n",
    "    df = df.withColumnRenamed(\"_c0\", \"client_id\")\n",
    "    df = df.withColumnRenamed(\"_c1\", \"product_id\")\n",
    "    df = df.withColumnRenamed(\"_c2\", \"rating\")\n",
    "    df = df.withColumnRenamed(\"_c3\", \"timestamp\")\n",
    "    \n",
    "    cols = [field.name for field in data_schema]\n",
    "    spark_df = df.select(*cols)\n",
    "\n",
    "    return spark_df"
   ]
  },
  {
   "cell_type": "code",
   "execution_count": 11,
   "metadata": {},
   "outputs": [],
   "source": [
    "books_rating = getRatingData(books_rating_data)"
   ]
  },
  {
   "cell_type": "code",
   "execution_count": 12,
   "metadata": {},
   "outputs": [
    {
     "name": "stdout",
     "output_type": "stream",
     "text": [
      "+----------+--------------+------+----------+\n",
      "|product_id|     client_id|rating| timestamp|\n",
      "+----------+--------------+------+----------+\n",
      "|0000000116| AH2L9G3DQHHAJ|   4.0|1019865600|\n",
      "|0000000116|A2IIIDRK3PRRZY|   1.0|1395619200|\n",
      "|0000000868|A1TADCM7YWPQ8M|   4.0|1031702400|\n",
      "|0000013714| AWGH7V0BDOJKB|   4.0|1383177600|\n",
      "|0000013714|A3UTQPQPM4TQO0|   5.0|1374883200|\n",
      "+----------+--------------+------+----------+\n",
      "only showing top 5 rows\n",
      "\n"
     ]
    }
   ],
   "source": [
    "books_rating.show(5)"
   ]
  },
  {
   "cell_type": "code",
   "execution_count": 13,
   "metadata": {},
   "outputs": [
    {
     "data": {
      "text/plain": [
       "22507155"
      ]
     },
     "execution_count": 13,
     "metadata": {},
     "output_type": "execute_result"
    }
   ],
   "source": [
    "books_rating.count()"
   ]
  },
  {
   "cell_type": "code",
   "execution_count": 14,
   "metadata": {},
   "outputs": [
    {
     "name": "stdout",
     "output_type": "stream",
     "text": [
      "+----------+---------+------+---------+\n",
      "|product_id|client_id|rating|timestamp|\n",
      "+----------+---------+------+---------+\n",
      "|         0|        0|     0|        0|\n",
      "+----------+---------+------+---------+\n",
      "\n"
     ]
    }
   ],
   "source": [
    "def check_for_nulls(df):\n",
    "    df = df.select([count(when(isnull(c), c)).alias(c) for c in df.columns]).show()\n",
    "\n",
    "    return df\n",
    "\n",
    "check_for_nulls(books_rating)"
   ]
  },
  {
   "cell_type": "code",
   "execution_count": 15,
   "metadata": {},
   "outputs": [],
   "source": [
    "books_rating = books_rating.withColumn(\"rating\", col(\"rating\").cast(\"float\"))"
   ]
  },
  {
   "cell_type": "code",
   "execution_count": 16,
   "metadata": {},
   "outputs": [
    {
     "name": "stdout",
     "output_type": "stream",
     "text": [
      "+----------+-----+\n",
      "|product_id|count|\n",
      "+----------+-----+\n",
      "|0439023483|21398|\n",
      "|030758836X|19867|\n",
      "|0439023513|14114|\n",
      "|0385537859|12973|\n",
      "|0007444117|12629|\n",
      "|0375831002|12571|\n",
      "|038536315X|12564|\n",
      "|0345803485|12290|\n",
      "|0316055433|11746|\n",
      "|0849922070|10424|\n",
      "|0007442920|10172|\n",
      "|0345803493| 9980|\n",
      "|0399159347| 9906|\n",
      "|0345803507| 9610|\n",
      "|0007386648| 9062|\n",
      "|1469984202| 8280|\n",
      "|0606238409| 8106|\n",
      "|0316044695| 7986|\n",
      "|0141039280| 7905|\n",
      "|0545265355| 7786|\n",
      "+----------+-----+\n",
      "only showing top 20 rows\n",
      "\n"
     ]
    }
   ],
   "source": [
    "books_rating.groupBy('product_id').count().orderBy(desc('count')).show(20)"
   ]
  },
  {
   "cell_type": "code",
   "execution_count": 17,
   "metadata": {},
   "outputs": [
    {
     "name": "stdout",
     "output_type": "stream",
     "text": [
      "+--------------+-------------+\n",
      "|     client_id|total_ratings|\n",
      "+--------------+-------------+\n",
      "|A14OJS0VWMOSWO|        43201|\n",
      "|   AFVQZQ8PW0L|        28816|\n",
      "|A2F6N60Z96CAJI|         6121|\n",
      "| A320TMDV6KCFU|         5955|\n",
      "|A2OJW07GQRNJUT|         5443|\n",
      "|A328S9RN3U5M68|         5031|\n",
      "|A1S3C5OFU508P3|         4599|\n",
      "|A13QTZ8CIMHHG4|         4564|\n",
      "|A1X8VZWTOG8IS6|         4050|\n",
      "| AHD101501WCN1|         4044|\n",
      "|A2VKWLCNZF4ZVB|         4023|\n",
      "|A1K1JW1C5CUSUZ|         3935|\n",
      "|A2TX179XAT5GRP|         3879|\n",
      "|A1M8PP7MLHNBQB|         3789|\n",
      "|A1NATT3PN24QWY|         3716|\n",
      "|A21NVBFIEQWDSG|         3554|\n",
      "|A2EDZH51XHFA9B|         3390|\n",
      "| AHUT55E980RDR|         3183|\n",
      "|A281NPSIMI1C2R|         2740|\n",
      "|A13G1TKIKHGV3F|         2683|\n",
      "+--------------+-------------+\n",
      "\n"
     ]
    }
   ],
   "source": [
    "top_clients = books_rating.groupBy(\"client_id\").agg(count(\"rating\").alias(\"total_ratings\")) \\\n",
    "                .orderBy(desc(\"total_ratings\")).limit(20)\n",
    "\n",
    "top_clients.show()"
   ]
  },
  {
   "cell_type": "code",
   "execution_count": 18,
   "metadata": {},
   "outputs": [],
   "source": [
    "def get_distribution(df, column) -> DataFrame:\n",
    "    rating_distribution = df.groupBy(column).agg(count(column).alias(\"count\"), \n",
    "                                        round(count(column)/df.count()*100, 2).alias(\"percentage\"))\n",
    "\n",
    "    rating_distribution.show()"
   ]
  },
  {
   "cell_type": "code",
   "execution_count": 19,
   "metadata": {},
   "outputs": [
    {
     "name": "stdout",
     "output_type": "stream",
     "text": [
      "+------+--------+----------+\n",
      "|rating|   count|percentage|\n",
      "+------+--------+----------+\n",
      "|   5.0|13886788|      61.7|\n",
      "|   2.0|  978560|      4.35|\n",
      "|   3.0| 1922390|      8.54|\n",
      "|   1.0| 1116862|      4.96|\n",
      "|   4.0| 4602555|     20.45|\n",
      "+------+--------+----------+\n",
      "\n"
     ]
    }
   ],
   "source": [
    "get_distribution(books_rating, \"rating\")"
   ]
  },
  {
   "cell_type": "code",
   "execution_count": 20,
   "metadata": {},
   "outputs": [],
   "source": [
    "sampled_data = books_rating.sample(fraction=0.01, seed=42)"
   ]
  },
  {
   "cell_type": "code",
   "execution_count": 21,
   "metadata": {},
   "outputs": [
    {
     "name": "stdout",
     "output_type": "stream",
     "text": [
      "+------+------+----------+\n",
      "|rating| count|percentage|\n",
      "+------+------+----------+\n",
      "|   5.0|139374|     61.62|\n",
      "|   2.0|  9891|      4.37|\n",
      "|   3.0| 19369|      8.56|\n",
      "|   1.0| 10983|      4.86|\n",
      "|   4.0| 46561|     20.59|\n",
      "+------+------+----------+\n",
      "\n"
     ]
    }
   ],
   "source": [
    "get_distribution(sampled_data, \"rating\")"
   ]
  },
  {
   "cell_type": "code",
   "execution_count": 22,
   "metadata": {},
   "outputs": [],
   "source": [
    "# Create a list of column names to index\n",
    "columns_to_index = list(set(sampled_data.columns) - set(['rating']))\n",
    "\n",
    "# Create a list of StringIndexer objects\n",
    "indexers = [StringIndexer(inputCol=column, outputCol=column+\"_index\") for column in columns_to_index]\n",
    "\n",
    "# Create a pipeline with all the indexers\n",
    "pipeline = Pipeline(stages=indexers)\n",
    "\n",
    "# Fit the pipeline to the data\n",
    "model = pipeline.fit(sampled_data)\n",
    "\n",
    "# Transform the data with the fitted model\n",
    "transformed = model.transform(sampled_data)"
   ]
  },
  {
   "cell_type": "code",
   "execution_count": 23,
   "metadata": {},
   "outputs": [
    {
     "name": "stdout",
     "output_type": "stream",
     "text": [
      "+----------+--------------+------+----------+---------------+----------------+---------------+\n",
      "|product_id|     client_id|rating| timestamp|timestamp_index|product_id_index|client_id_index|\n",
      "+----------+--------------+------+----------+---------------+----------------+---------------+\n",
      "|000100039X|A3UZYPFH8DC9XW|   3.0|1394236800|          281.0|          6753.0|       153682.0|\n",
      "|000100039X|A2MPRPCAQLTR3L|   5.0|1310688000|         1049.0|          6753.0|         8873.0|\n",
      "|000100039X| ANWMXAZZR2J0A|   5.0|1367625600|          176.0|          6753.0|       182105.0|\n",
      "|0001473123|A2UF7RXEPL9ZJI|   5.0|1371859200|          567.0|         29856.0|       104280.0|\n",
      "|0002007770|A2HQWMWL2WZWST|   5.0|1359590400|          402.0|            18.0|        87115.0|\n",
      "|0002007770| AA9ATGCL96YL2|   2.0|1158105600|         3846.0|            18.0|       163806.0|\n",
      "|0002007770| ASO6C0E3ELPSQ|   1.0|1304985600|         1454.0|            18.0|       188576.0|\n",
      "|0002007770|A3E432LKN617C0|   4.0|1287705600|         1497.0|            18.0|       130870.0|\n",
      "|0002007770|A24LQ3F746ZLME|   5.0|1361318400|          495.0|            18.0|        69448.0|\n",
      "|0002007770|A1YXN47XBF13EF|   4.0|1305072000|         1455.0|            18.0|        61901.0|\n",
      "+----------+--------------+------+----------+---------------+----------------+---------------+\n",
      "only showing top 10 rows\n",
      "\n"
     ]
    }
   ],
   "source": [
    "# Show the first 10 rows of the transformed data\n",
    "transformed.show(10)"
   ]
  },
  {
   "cell_type": "code",
   "execution_count": 24,
   "metadata": {},
   "outputs": [],
   "source": [
    "als=ALS(maxIter=5,regParam=0.09,rank=25,userCol=\"client_id_index\",itemCol=\"product_id_index\",ratingCol=\"rating\",coldStartStrategy=\"drop\",nonnegative=True)\n",
    "model=als.fit(transformed)"
   ]
  },
  {
   "cell_type": "code",
   "execution_count": 25,
   "metadata": {},
   "outputs": [
    {
     "data": {
      "text/plain": [
       "151991"
      ]
     },
     "execution_count": 25,
     "metadata": {},
     "output_type": "execute_result"
    }
   ],
   "source": [
    "model.itemFactors.count()"
   ]
  },
  {
   "cell_type": "code",
   "execution_count": 26,
   "metadata": {},
   "outputs": [
    {
     "name": "stdout",
     "output_type": "stream",
     "text": [
      "RMSE=0.04042688162149142\n",
      "+----------+--------------+------+----------+---------------+----------------+---------------+----------+\n",
      "|product_id|     client_id|rating| timestamp|timestamp_index|product_id_index|client_id_index|prediction|\n",
      "+----------+--------------+------+----------+---------------+----------------+---------------+----------+\n",
      "|0805093079|A12TW0NZMHVIIE|   5.0|1360713600|          201.0|            26.0|        18392.0|   4.89166|\n",
      "|0805093079|A19Q81JSBFTVSM|   5.0|1368230400|          487.0|            26.0|        27657.0|   4.89166|\n",
      "|0805093079|A1NELE68WF76CW|   5.0|1360454400|          142.0|            26.0|        46378.0|   4.89166|\n",
      "|0805093079|A2G2J7SOUUAX1I|   1.0|1321660800|         1142.0|            26.0|        84828.0|  0.978332|\n",
      "|0805093079| A37V1RSR4Z6R2|   5.0|1321315200|         1141.0|            26.0|       122323.0|   4.89166|\n",
      "|0805093079| A44JLRQJ4XY49|   5.0|1325721600|          746.0|            26.0|       155551.0|   4.89166|\n",
      "|0805093079| AG34WV90QL80Z|   5.0|1389312000|          156.0|            26.0|       171635.0|   4.89166|\n",
      "|0805093079|A2DPPUTFPFHXQE|   5.0|1388620800|           19.0|            26.0|         3239.0| 4.7395844|\n",
      "|0805093079|A10DIR8AQSJNXK|   5.0|1376092800|          199.0|            26.0|        15050.0|   4.89166|\n",
      "|0805093079|A1S7MQ7SFPJZCZ|   5.0|1385596800|          594.0|            26.0|        52871.0|   4.89166|\n",
      "|0805093079|A2P0KQ3RDJLBS5|   5.0|1321574400|          893.0|            26.0|        96912.0|   4.89166|\n",
      "|0805093079|A30LE1Q9XSAIDL|   4.0|1359244800|          136.0|            26.0|       112541.0|  3.913328|\n",
      "|0805093079|A3OGPDP8VA8HL5|   1.0|1320796800|         1111.0|            26.0|       144813.0|  0.978332|\n",
      "|0805093079|A1CA68K57BC23E|   5.0|1377388800|          364.0|            26.0|        31176.0|   4.89166|\n",
      "|0805093079|A1TUDFF9L7WHF8|   5.0|1321574400|          893.0|            26.0|        55047.0|   4.89166|\n",
      "|0805093079|A20A24UTVGSMOO|   1.0|1321660800|         1142.0|            26.0|        63703.0|  0.978332|\n",
      "|0805093079|A2JZXL9VDXMY4E|   5.0|1382745600|          463.0|            26.0|        90164.0|   4.89166|\n",
      "|0805093079|A2VJQXWCAFY842|   5.0|1352937600|          608.0|            26.0|       105734.0|   4.89166|\n",
      "|0805093079|A363DC3I501Q8Z|   5.0|1359331200|           86.0|            26.0|       119966.0|   4.89166|\n",
      "|0805093079|A39HIPOIGFUK9C|   1.0|1320710400|          932.0|            26.0|       124531.0|  0.978332|\n",
      "+----------+--------------+------+----------+---------------+----------------+---------------+----------+\n",
      "only showing top 20 rows\n",
      "\n"
     ]
    }
   ],
   "source": [
    "evaluator=RegressionEvaluator(metricName=\"rmse\",labelCol=\"rating\",predictionCol=\"prediction\")\n",
    "predictions=model.transform(transformed)\n",
    "rmse=evaluator.evaluate(predictions)\n",
    "print(\"RMSE=\"+str(rmse))\n",
    "predictions.show()"
   ]
  },
  {
   "cell_type": "code",
   "execution_count": 27,
   "metadata": {},
   "outputs": [
    {
     "name": "stdout",
     "output_type": "stream",
     "text": [
      "+---+--------------------+----------------+---------------+\n",
      "| id|        model_factor|   model_version|model_timestamp|\n",
      "+---+--------------------+----------------+---------------+\n",
      "|  0|[0.020638432, 0.0...|ALS_991d3a6867c9|     1677619897|\n",
      "| 10|[0.01492299, 0.01...|ALS_991d3a6867c9|     1677619897|\n",
      "| 20|[1.068503, 0.0077...|ALS_991d3a6867c9|     1677619897|\n",
      "| 30|[0.017486217, 0.0...|ALS_991d3a6867c9|     1677619897|\n",
      "| 40|[0.53731984, 1.12...|ALS_991d3a6867c9|     1677619897|\n",
      "+---+--------------------+----------------+---------------+\n",
      "only showing top 5 rows\n",
      "\n"
     ]
    }
   ],
   "source": [
    "ver = model.uid\n",
    "ts = unix_timestamp(current_timestamp())\n",
    "product_vectors = model.itemFactors.select(\"id\",\\\n",
    "                                        col(\"features\").alias(\"model_factor\"),\\\n",
    "                                        lit(ver).alias(\"model_version\"),\\\n",
    "                                        ts.alias(\"model_timestamp\"))\n",
    "product_vectors.show(5)"
   ]
  },
  {
   "cell_type": "code",
   "execution_count": 28,
   "metadata": {},
   "outputs": [
    {
     "name": "stdout",
     "output_type": "stream",
     "text": [
      "+--------------------+----------------+---------------+----------+\n",
      "|        model_factor|   model_version|model_timestamp|   product|\n",
      "+--------------------+----------------+---------------+----------+\n",
      "|[0.020638432, 0.0...|ALS_991d3a6867c9|     1677619919|0439023483|\n",
      "|[0.01492299, 0.01...|ALS_991d3a6867c9|     1677619919|0007442920|\n",
      "|[1.068503, 0.0077...|ALS_991d3a6867c9|     1677619919|0606238409|\n",
      "|[0.017486217, 0.0...|ALS_991d3a6867c9|     1677619919|1442362383|\n",
      "|[0.53731984, 1.12...|ALS_991d3a6867c9|     1677619919|043935806X|\n",
      "|[0.9242187, 1.629...|ALS_991d3a6867c9|     1677619919|0425263916|\n",
      "|[0.9700693, 1.187...|ALS_991d3a6867c9|     1677619919|0307749649|\n",
      "|[0.75801194, 0.34...|ALS_991d3a6867c9|     1677619919|074356619X|\n",
      "|[0.02503104, 0.14...|ALS_991d3a6867c9|     1677619919|0449014509|\n",
      "|[0.3117248, 0.222...|ALS_991d3a6867c9|     1677619919|1469241943|\n",
      "+--------------------+----------------+---------------+----------+\n",
      "only showing top 10 rows\n",
      "\n"
     ]
    }
   ],
   "source": [
    "product_index_meta = [\n",
    "    f.metadata for f in transformed.schema.fields if f.name == \"product_id_index\"]\n",
    "product_index_labels = product_index_meta[0][\"ml_attr\"][\"vals\"]\n",
    "\n",
    "reviewerId_converter = IndexToString(inputCol=\"id\", outputCol=\"product\",   labels=product_index_labels)\n",
    "PredictedLabels = reviewerId_converter.transform(product_vectors)\n",
    "PredictedLabels = PredictedLabels.drop('id')\n",
    "PredictedLabels.show(10)"
   ]
  },
  {
   "cell_type": "code",
   "execution_count": 29,
   "metadata": {},
   "outputs": [
    {
     "data": {
      "text/plain": [
       "151991"
      ]
     },
     "execution_count": 29,
     "metadata": {},
     "output_type": "execute_result"
    }
   ],
   "source": [
    "PredictedLabels.count()"
   ]
  },
  {
   "cell_type": "code",
   "execution_count": 30,
   "metadata": {},
   "outputs": [],
   "source": [
    "product_data_df = product_data.dropDuplicates(subset=[\"asin\"])"
   ]
  },
  {
   "cell_type": "code",
   "execution_count": 31,
   "metadata": {},
   "outputs": [],
   "source": [
    "def getMetaData(df):\n",
    "\n",
    "    spark_df = df.select(\n",
    "    \"asin\", \n",
    "    \"categories\",\n",
    "    \"brand\", \n",
    "    \"description\", \n",
    "    \"imUrl\", \n",
    "    \"price\", \n",
    "    col(\"related.also_bought\").alias(\"also_bought\"),\n",
    "    col(\"related.also_viewed\").alias(\"also_viewed\"),\n",
    "    col(\"related.bought_together\").alias(\"bought_together\"),\n",
    "    col(\"related.buy_after_viewing\").alias(\"buy_after_viewing\"),\n",
    "    \"title\",\n",
    ")\n",
    "\n",
    "    return spark_df"
   ]
  },
  {
   "cell_type": "code",
   "execution_count": 32,
   "metadata": {},
   "outputs": [],
   "source": [
    "product_data = getMetaData(product_data_df)"
   ]
  },
  {
   "cell_type": "code",
   "execution_count": 33,
   "metadata": {},
   "outputs": [
    {
     "name": "stdout",
     "output_type": "stream",
     "text": [
      "+----------+----------+-----+--------------------+--------------------+-----+--------------------+--------------------+---------------+--------------------+--------------------+\n",
      "|      asin|categories|brand|         description|               imUrl|price|         also_bought|         also_viewed|bought_together|   buy_after_viewing|               title|\n",
      "+----------+----------+-----+--------------------+--------------------+-----+--------------------+--------------------+---------------+--------------------+--------------------+\n",
      "|0001837192| [[Books]]| null|                null|http://ecx.images...| null|                null|                null|           null|                null|Pieter Brueghel's...|\n",
      "|0001845357| [[Books]]| null|Great granddaught...|http://ecx.images...| 6.15|                null|                null|           null|                null|    Ballad of Favour|\n",
      "|0002216973| [[Books]]| null|                null|http://ecx.images...| null|                null|[0812823354, 0062...|           null|        [0812823354]|     Red Adam's Lady|\n",
      "|000255111X| [[Books]]| null|                null|http://ecx.images...| null|                null|                null|           null|                null|The Adventures of...|\n",
      "|0004708075| [[Books]]| null|                null|http://ecx.images...| null|                null|                null|           null|                null|The Complete Nove...|\n",
      "|0004708237| [[Books]]| null|Text: English, Ja...|http://ecx.images...| null|                null|        [0679780017]|           null|                null|Collins Gem Shubu...|\n",
      "|0006393020| [[Books]]| null|                null|http://ecx.images...| 7.19|[1416949976, 0060...|                null|           null|[1416949992, 1416...|            Firewing|\n",
      "|0006476155| [[Books]]| null|This second big w...|http://ecx.images...| 6.99|[0375727930, B007...|                null|           null|[0446604801, 0446...| Along Came a Spider|\n",
      "|0006479529| [[Books]]| null|                null|http://ecx.images...| 7.35|                null|                null|           null|[0810992140, 0810...|   DRUID'S TUNE, The|\n",
      "|0006544150| [[Books]]| null|'Brilliant' Spect...|http://ecx.images...|10.95|[0142001007, 0006...|                null|           null|[014200412X, 0307...|           In Xanadu|\n",
      "+----------+----------+-----+--------------------+--------------------+-----+--------------------+--------------------+---------------+--------------------+--------------------+\n",
      "only showing top 10 rows\n",
      "\n"
     ]
    }
   ],
   "source": [
    "product_data.show(10)"
   ]
  },
  {
   "cell_type": "code",
   "execution_count": 34,
   "metadata": {},
   "outputs": [],
   "source": [
    "#product_data.groupBy(\"main_category\").agg(count(\"*\").alias(\"count\")).orderBy(col(\"count\").desc()).show(50)"
   ]
  },
  {
   "cell_type": "code",
   "execution_count": 35,
   "metadata": {},
   "outputs": [],
   "source": [
    "book_data = product_data.filter(product_data.categories[0][0] == 'Books')"
   ]
  },
  {
   "cell_type": "code",
   "execution_count": 36,
   "metadata": {},
   "outputs": [
    {
     "data": {
      "text/plain": [
       "2369958"
      ]
     },
     "execution_count": 36,
     "metadata": {},
     "output_type": "execute_result"
    }
   ],
   "source": [
    "book_data.count()"
   ]
  },
  {
   "cell_type": "code",
   "execution_count": 37,
   "metadata": {},
   "outputs": [
    {
     "name": "stdout",
     "output_type": "stream",
     "text": [
      "+----+----------+-------+-----------+-----+------+-----------+-----------+---------------+-----------------+------+\n",
      "|asin|categories|  brand|description|imUrl| price|also_bought|also_viewed|bought_together|buy_after_viewing| title|\n",
      "+----+----------+-------+-----------+-----+------+-----------+-----------+---------------+-----------------+------+\n",
      "|   0|         0|2369847|    1248624|50867|691033|    1101405|    2066517|        1822528|          1124916|431194|\n",
      "+----+----------+-------+-----------+-----+------+-----------+-----------+---------------+-----------------+------+\n",
      "\n"
     ]
    }
   ],
   "source": [
    "check_for_nulls(book_data)"
   ]
  },
  {
   "cell_type": "code",
   "execution_count": 38,
   "metadata": {},
   "outputs": [],
   "source": [
    "def drop_columns(df: DataFrame, columns_to_drop: list) -> DataFrame:\n",
    "    for col in columns_to_drop:\n",
    "        df = df.drop(col)\n",
    "    return df"
   ]
  },
  {
   "cell_type": "code",
   "execution_count": 39,
   "metadata": {},
   "outputs": [],
   "source": [
    "book_data = drop_columns(book_data, ['description', 'brand', 'price', 'also_bought', 'also_viewed', 'bought_together', 'buy_after_viewing'])"
   ]
  },
  {
   "cell_type": "code",
   "execution_count": 40,
   "metadata": {},
   "outputs": [
    {
     "data": {
      "text/plain": [
       "1890214"
      ]
     },
     "execution_count": 40,
     "metadata": {},
     "output_type": "execute_result"
    }
   ],
   "source": [
    "book_data = book_data.dropna(how='any')\n",
    "book_data.count()"
   ]
  },
  {
   "cell_type": "code",
   "execution_count": 41,
   "metadata": {},
   "outputs": [],
   "source": [
    "sampled_books = book_data.sample(fraction=0.1, seed=42)"
   ]
  },
  {
   "cell_type": "code",
   "execution_count": 42,
   "metadata": {},
   "outputs": [
    {
     "data": {
      "text/plain": [
       "189635"
      ]
     },
     "execution_count": 42,
     "metadata": {},
     "output_type": "execute_result"
    }
   ],
   "source": [
    "sampled_books.count()"
   ]
  },
  {
   "cell_type": "code",
   "execution_count": 43,
   "metadata": {},
   "outputs": [
    {
     "name": "stdout",
     "output_type": "stream",
     "text": [
      "+----------+----------+--------------------+--------------------+\n",
      "|      asin|categories|               imUrl|               title|\n",
      "+----------+----------+--------------------+--------------------+\n",
      "|0002000946| [[Books]]|http://ecx.images...|       Divine Hunger|\n",
      "|0002251213| [[Books]]|http://ecx.images...|Ronald Reagan: Th...|\n",
      "|0002252104| [[Books]]|http://ecx.images...|Grains (Gourmet P...|\n",
      "|0006387403| [[Books]]|http://ecx.images...|The Pale Abyssini...|\n",
      "|0006514685| [[Books]]|http://ecx.images...|The Essential Cli...|\n",
      "+----------+----------+--------------------+--------------------+\n",
      "only showing top 5 rows\n",
      "\n"
     ]
    }
   ],
   "source": [
    "sampled_books.show(5)"
   ]
  },
  {
   "cell_type": "code",
   "execution_count": 44,
   "metadata": {},
   "outputs": [],
   "source": [
    "sampled_books = sampled_books.withColumnRenamed(\"asin\", \"product_id\")\n",
    "\n",
    "@udf(returnType=StringType())\n",
    "def extract_category(categories):\n",
    "    return str(categories[0][0])\n",
    "\n",
    "sampled_books = sampled_books.withColumn(\"category\", extract_category(sampled_books.categories))\n",
    "sampled_books = drop_columns(sampled_books, [\"categories\"])"
   ]
  },
  {
   "cell_type": "code",
   "execution_count": 119,
   "metadata": {},
   "outputs": [],
   "source": [
    "book_data = book_data.withColumnRenamed(\"asin\", \"product_id\")\n",
    "\n",
    "@udf(returnType=StringType())\n",
    "def extract_category(categories):\n",
    "    return str(categories[0][0])\n",
    "\n",
    "book_data = book_data.withColumn(\"category\", extract_category(book_data.categories))\n",
    "book_data = drop_columns(book_data, [\"categories\"])"
   ]
  },
  {
   "cell_type": "code",
   "execution_count": 45,
   "metadata": {},
   "outputs": [
    {
     "name": "stdout",
     "output_type": "stream",
     "text": [
      "+----------+--------------------+--------------------+--------+\n",
      "|product_id|               imUrl|               title|category|\n",
      "+----------+--------------------+--------------------+--------+\n",
      "|0002000946|http://ecx.images...|       Divine Hunger|   Books|\n",
      "|0002251213|http://ecx.images...|Ronald Reagan: Th...|   Books|\n",
      "|0002252104|http://ecx.images...|Grains (Gourmet P...|   Books|\n",
      "|0006387403|http://ecx.images...|The Pale Abyssini...|   Books|\n",
      "|0006514685|http://ecx.images...|The Essential Cli...|   Books|\n",
      "+----------+--------------------+--------------------+--------+\n",
      "only showing top 5 rows\n",
      "\n"
     ]
    }
   ],
   "source": [
    "sampled_books.show(5)"
   ]
  },
  {
   "cell_type": "code",
   "execution_count": 46,
   "metadata": {},
   "outputs": [
    {
     "name": "stdout",
     "output_type": "stream",
     "text": [
      "The first matching product_id is: 0020449313\n"
     ]
    }
   ],
   "source": [
    "# assuming both dataframes have a column named \"product_id\"\n",
    "matching_id = None\n",
    "\n",
    "for id in sampled_books.select(\"product_id\").rdd.flatMap(lambda x: x).collect():\n",
    "    if PredictedLabels.filter(PredictedLabels.product == id).count() > 0:\n",
    "        matching_id = id\n",
    "        break\n",
    "\n",
    "if matching_id:\n",
    "    print(\"The first matching product_id is:\", matching_id)\n",
    "else:\n",
    "    print(\"No matching product_id found.\")"
   ]
  },
  {
   "cell_type": "code",
   "execution_count": 111,
   "metadata": {},
   "outputs": [],
   "source": [
    "def get_similar(the_id, num, sampled_books_df, predicted_labels_df, vector_col):\n",
    "    \"\"\"\n",
    "    Given a item id, execute the recommendation script score query to find similar items,\n",
    "    ranked by cosine similarity. We return the `num` most similar, excluding the item itself.\n",
    "    \"\"\"\n",
    "    # Get the query vector\n",
    "    query_vec = predicted_labels_df \\\n",
    "        .where(predicted_labels_df.product == the_id) \\\n",
    "        .select(vector_col) \\\n",
    "        .first()[vector_col]\n",
    "\n",
    "    # Compute the cosine similarity between the query vector and all the other vectors\n",
    "    cosine_sim = (predicted_labels_df \\\n",
    "        .select('product', vector_col) \\\n",
    "        .rdd \\\n",
    "        .map(lambda row: (row[0], cosine_similarity([query_vec], [row[1]])[0][0])) \\\n",
    "        .filter(lambda row: row[0] != the_id) \\\n",
    "        .sortBy(lambda row: row[1], ascending=False) \\\n",
    "        .take(num))\n",
    "\n",
    "    # Get the details of the query product and the similar products\n",
    "    book_asin = sampled_books_df \\\n",
    "        .where(sampled_books_df.product_id == the_id) \\\n",
    "        .select('product_id', 'title', 'category') \\\n",
    "        .first().asDict()\n",
    "\n",
    "    similar_books = []\n",
    "    for sim in cosine_sim:\n",
    "        book = sampled_books_df \\\n",
    "            .where(sampled_books_df.product_id == sim[0]) \\\n",
    "            .select('product_id', 'title', 'category') \\\n",
    "            .first().asDict()\n",
    "        book['similarity'] = sim[1]\n",
    "        similar_books.append(book)\n",
    "\n",
    "    return book_asin, similar_books"
   ]
  },
  {
   "cell_type": "code",
   "execution_count": 131,
   "metadata": {},
   "outputs": [],
   "source": [
    "def display_similar(sampled_books_df, predicted_labels_df, the_id, vector_col, num=10):\n",
    "    \"\"\"\n",
    "    Display query product, together with similar product and similarity scores, in a table\n",
    "    \"\"\"\n",
    "    product, similar_books = get_similar(the_id, num, sampled_books_df, predicted_labels_df, vector_col)\n",
    "    display(HTML(\"<h2>Get similar products for:</h2>\"))\n",
    "    display(HTML(\"<h4>%s (product_id - %s)</h4>\" % (product['title'], product['product_id'])))\n",
    "    display(HTML(\"<br>\"))\n",
    "    display(HTML(\"<h2>People who liked this product also liked these:</h2>\"))\n",
    "    sim_html = \"<table border=0>\"\n",
    "    pd_data = []\n",
    "    for rec in similar_books:\n",
    "        r_score = rec['similarity']\n",
    "        r_title = rec['title']\n",
    "        r = {}\n",
    "        r['product_id'] = rec['product_id']\n",
    "        r['title'] = r_title\n",
    "        r['similarity'] = r_score\n",
    "        pd_data.append(r)\n",
    "        sim_html += \"<tr><td><h5>%s</h5></td><td><h5>%2.3f</h5></td></tr>\" % (r_title, r_score)\n",
    "    sim_html += \"</table>\"\n",
    "    pd.set_option('display.max_colwidth', -1) \n",
    "    pd_df = pd.DataFrame (pd_data)\n",
    "    display(HTML(pd_df.to_html()))\n",
    "    display(HTML(sim_html))"
   ]
  },
  {
   "cell_type": "code",
   "execution_count": 133,
   "metadata": {},
   "outputs": [
    {
     "data": {
      "text/html": [
       "<h2>Get similar products for:</h2>"
      ],
      "text/plain": [
       "<IPython.core.display.HTML object>"
      ]
     },
     "metadata": {},
     "output_type": "display_data"
    },
    {
     "data": {
      "text/html": [
       "<h4>The Yearling (50th Anniversary Edition) (product_id - 0020449313)</h4>"
      ],
      "text/plain": [
       "<IPython.core.display.HTML object>"
      ]
     },
     "metadata": {},
     "output_type": "display_data"
    },
    {
     "data": {
      "text/html": [
       "<br>"
      ],
      "text/plain": [
       "<IPython.core.display.HTML object>"
      ]
     },
     "metadata": {},
     "output_type": "display_data"
    },
    {
     "data": {
      "text/html": [
       "<h2>People who liked this product also liked these:</h2>"
      ],
      "text/plain": [
       "<IPython.core.display.HTML object>"
      ]
     },
     "metadata": {},
     "output_type": "display_data"
    },
    {
     "name": "stderr",
     "output_type": "stream",
     "text": [
      "c:\\Users\\Dell\\anaconda3\\envs\\sparkenv\\lib\\site-packages\\ipykernel_launcher.py:22: FutureWarning: Passing a negative integer is deprecated in version 1.0 and will not be supported in future version. Instead, use None to not limit the column width.\n"
     ]
    },
    {
     "data": {
      "text/html": [
       "<table border=\"1\" class=\"dataframe\">\n",
       "  <thead>\n",
       "    <tr style=\"text-align: right;\">\n",
       "      <th></th>\n",
       "      <th>product_id</th>\n",
       "      <th>title</th>\n",
       "      <th>similarity</th>\n",
       "    </tr>\n",
       "  </thead>\n",
       "  <tbody>\n",
       "    <tr>\n",
       "      <th>0</th>\n",
       "      <td>0064404455</td>\n",
       "      <td>Tom's Midnight Garden</td>\n",
       "      <td>1.000000</td>\n",
       "    </tr>\n",
       "    <tr>\n",
       "      <th>1</th>\n",
       "      <td>1563637480</td>\n",
       "      <td>PDR: Physicians Desk Reference 2010 (Physicians' Desk Reference (Pdr))</td>\n",
       "      <td>0.903649</td>\n",
       "    </tr>\n",
       "    <tr>\n",
       "      <th>2</th>\n",
       "      <td>0765309386</td>\n",
       "      <td>Spin</td>\n",
       "      <td>0.897177</td>\n",
       "    </tr>\n",
       "    <tr>\n",
       "      <th>3</th>\n",
       "      <td>1465203923</td>\n",
       "      <td>Experiments in General Chemistry</td>\n",
       "      <td>0.891805</td>\n",
       "    </tr>\n",
       "    <tr>\n",
       "      <th>4</th>\n",
       "      <td>0231148518</td>\n",
       "      <td>In Their Siblings' Voices: White Non-Adopted Siblings Talk About Their Experiences Being Raised with Black and Biracial Brothers and Sisters</td>\n",
       "      <td>0.889620</td>\n",
       "    </tr>\n",
       "    <tr>\n",
       "      <th>5</th>\n",
       "      <td>1594733007</td>\n",
       "      <td>The Lectio Divina - The Sacred Art: Transforming Words &amp;amp; Images into Heart-Centered Prayer (The Art of Spiritual Living)</td>\n",
       "      <td>0.888772</td>\n",
       "    </tr>\n",
       "    <tr>\n",
       "      <th>6</th>\n",
       "      <td>0137016611</td>\n",
       "      <td>Your Credit Score, Your Money &amp;amp; What's at Stake (Updated Edition): How to Improve the 3-Digit Number that Shapes Your Financial Future</td>\n",
       "      <td>0.888498</td>\n",
       "    </tr>\n",
       "    <tr>\n",
       "      <th>7</th>\n",
       "      <td>1463566239</td>\n",
       "      <td>TUTORING: Complete Home Business Guide: Tutor at home, Set your own Fees, Set your own schedule, Earn more tutoring online, tutor to international people</td>\n",
       "      <td>0.882772</td>\n",
       "    </tr>\n",
       "    <tr>\n",
       "      <th>8</th>\n",
       "      <td>0984013016</td>\n",
       "      <td>Haymarket Square</td>\n",
       "      <td>0.882402</td>\n",
       "    </tr>\n",
       "    <tr>\n",
       "      <th>9</th>\n",
       "      <td>0451211979</td>\n",
       "      <td>Eat Cake</td>\n",
       "      <td>0.872774</td>\n",
       "    </tr>\n",
       "  </tbody>\n",
       "</table>"
      ],
      "text/plain": [
       "<IPython.core.display.HTML object>"
      ]
     },
     "metadata": {},
     "output_type": "display_data"
    },
    {
     "data": {
      "text/html": [
       "<table border=0><tr><td><h5>Tom's Midnight Garden</h5></td><td><h5>1.000</h5></td></tr><tr><td><h5>PDR: Physicians Desk Reference 2010 (Physicians' Desk Reference (Pdr))</h5></td><td><h5>0.904</h5></td></tr><tr><td><h5>Spin</h5></td><td><h5>0.897</h5></td></tr><tr><td><h5>Experiments in General Chemistry</h5></td><td><h5>0.892</h5></td></tr><tr><td><h5>In Their Siblings' Voices: White Non-Adopted Siblings Talk About Their Experiences Being Raised with Black and Biracial Brothers and Sisters</h5></td><td><h5>0.890</h5></td></tr><tr><td><h5>The Lectio Divina - The Sacred Art: Transforming Words &amp; Images into Heart-Centered Prayer (The Art of Spiritual Living)</h5></td><td><h5>0.889</h5></td></tr><tr><td><h5>Your Credit Score, Your Money &amp; What's at Stake (Updated Edition): How to Improve the 3-Digit Number that Shapes Your Financial Future</h5></td><td><h5>0.888</h5></td></tr><tr><td><h5>TUTORING: Complete Home Business Guide: Tutor at home, Set your own Fees, Set your own schedule, Earn more tutoring online, tutor to international people</h5></td><td><h5>0.883</h5></td></tr><tr><td><h5>Haymarket Square</h5></td><td><h5>0.882</h5></td></tr><tr><td><h5>Eat Cake</h5></td><td><h5>0.873</h5></td></tr></table>"
      ],
      "text/plain": [
       "<IPython.core.display.HTML object>"
      ]
     },
     "metadata": {},
     "output_type": "display_data"
    }
   ],
   "source": [
    "from IPython.display import Image, HTML, display\n",
    "from sklearn.metrics.pairwise import cosine_similarity\n",
    "import pandas as pd\n",
    "data = display_similar(book_data,PredictedLabels, '0020449313', num=10, vector_col='model_factor')"
   ]
  },
  {
   "cell_type": "code",
   "execution_count": 114,
   "metadata": {},
   "outputs": [],
   "source": [
    "\n",
    "query_vec = PredictedLabels \\\n",
    "        .where(PredictedLabels.product == '0020449313') \\\n",
    "        .select('model_factor') \\\n",
    "        .first()['model_factor']\n",
    "\n",
    "\n",
    "cosine_sim = (PredictedLabels\n",
    "        .select('product', 'model_factor')\n",
    "        .rdd\n",
    "        .map(lambda row: (row[0], cosine_similarity([query_vec], [row[1]])[0][0]))\n",
    "        .filter(lambda row: row[0] != '0020449313')\n",
    "        .sortBy(lambda row: row[1], ascending=False)\n",
    "        .take(10))"
   ]
  },
  {
   "cell_type": "code",
   "execution_count": 115,
   "metadata": {},
   "outputs": [],
   "source": [
    "book_asin = sampled_books \\\n",
    "        .where(sampled_books.product_id == '0020449313') \\\n",
    "        .select('product_id', 'title', 'category') \\\n",
    "        .first().asDict()"
   ]
  },
  {
   "cell_type": "code",
   "execution_count": 121,
   "metadata": {},
   "outputs": [],
   "source": [
    "similar_books = []\n",
    "for sim in cosine_sim:\n",
    "        book = book_data \\\n",
    "        .where(book_data.product_id == sim[0]) \\\n",
    "        .select('product_id', 'title', 'category') \\\n",
    "        .first().asDict()\n",
    "        book['similarity'] = sim[1]\n",
    "        similar_books.append(book)"
   ]
  },
  {
   "cell_type": "code",
   "execution_count": 130,
   "metadata": {},
   "outputs": [
    {
     "data": {
      "text/plain": [
       "[{'product_id': '0064404455',\n",
       "  'title': \"Tom's Midnight Garden\",\n",
       "  'category': 'Books',\n",
       "  'similarity': 1.0000000000000002},\n",
       " {'product_id': '1563637480',\n",
       "  'title': \"PDR: Physicians Desk Reference 2010 (Physicians' Desk Reference (Pdr))\",\n",
       "  'category': 'Books',\n",
       "  'similarity': 0.9036492562205621},\n",
       " {'product_id': '0765309386',\n",
       "  'title': 'Spin',\n",
       "  'category': 'Books',\n",
       "  'similarity': 0.8971766225597146},\n",
       " {'product_id': '1465203923',\n",
       "  'title': 'Experiments in General Chemistry',\n",
       "  'category': 'Books',\n",
       "  'similarity': 0.8918050897412294},\n",
       " {'product_id': '0231148518',\n",
       "  'title': \"In Their Siblings' Voices: White Non-Adopted Siblings Talk About Their Experiences Being Raised with Black and Biracial Brothers and Sisters\",\n",
       "  'category': 'Books',\n",
       "  'similarity': 0.889620087237011},\n",
       " {'product_id': '1594733007',\n",
       "  'title': 'The Lectio Divina - The Sacred Art: Transforming Words &amp; Images into Heart-Centered Prayer (The Art of Spiritual Living)',\n",
       "  'category': 'Books',\n",
       "  'similarity': 0.8887721761382544},\n",
       " {'product_id': '0137016611',\n",
       "  'title': \"Your Credit Score, Your Money &amp; What's at Stake (Updated Edition): How to Improve the 3-Digit Number that Shapes Your Financial Future\",\n",
       "  'category': 'Books',\n",
       "  'similarity': 0.8884983711068548},\n",
       " {'product_id': '1463566239',\n",
       "  'title': 'TUTORING: Complete Home Business Guide: Tutor at home, Set your own Fees, Set your own schedule, Earn more tutoring online, tutor to international people',\n",
       "  'category': 'Books',\n",
       "  'similarity': 0.8827717974255695},\n",
       " {'product_id': '0984013016',\n",
       "  'title': 'Haymarket Square',\n",
       "  'category': 'Books',\n",
       "  'similarity': 0.8824020989244736},\n",
       " {'product_id': '0451211979',\n",
       "  'title': 'Eat Cake',\n",
       "  'category': 'Books',\n",
       "  'similarity': 0.8727737463716755}]"
      ]
     },
     "execution_count": 130,
     "metadata": {},
     "output_type": "execute_result"
    }
   ],
   "source": [
    "similar_books"
   ]
  }
 ],
 "metadata": {
  "kernelspec": {
   "display_name": "Python 3.7.12 ('sparkenv')",
   "language": "python",
   "name": "python3"
  },
  "language_info": {
   "codemirror_mode": {
    "name": "ipython",
    "version": 3
   },
   "file_extension": ".py",
   "mimetype": "text/x-python",
   "name": "python",
   "nbconvert_exporter": "python",
   "pygments_lexer": "ipython3",
   "version": "3.7.12"
  },
  "orig_nbformat": 4,
  "vscode": {
   "interpreter": {
    "hash": "031d2f25d3b05e1c7ddd7403344cc865c7e7968ef29be698ac02f2738ca8a568"
   }
  }
 },
 "nbformat": 4,
 "nbformat_minor": 2
}
